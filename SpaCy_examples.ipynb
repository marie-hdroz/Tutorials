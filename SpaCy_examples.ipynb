{
 "cells": [
  {
   "cell_type": "code",
   "execution_count": 1,
   "id": "180d8c48",
   "metadata": {},
   "outputs": [],
   "source": [
    "import pandas as pd\n",
    "import numpy as np\n",
    "import spacy"
   ]
  },
  {
   "cell_type": "code",
   "execution_count": 46,
   "id": "e5302957",
   "metadata": {},
   "outputs": [],
   "source": [
    "#!python -m spacy download en_core_web_sm"
   ]
  },
  {
   "cell_type": "code",
   "execution_count": null,
   "id": "f5cc823e",
   "metadata": {},
   "outputs": [],
   "source": []
  },
  {
   "cell_type": "code",
   "execution_count": 4,
   "id": "71d0b02c",
   "metadata": {},
   "outputs": [],
   "source": [
    "nlp = spacy.load('en_core_web_sm')"
   ]
  },
  {
   "cell_type": "code",
   "execution_count": 64,
   "id": "3b608e58",
   "metadata": {},
   "outputs": [],
   "source": [
    "raw_text = \"\"\"We discussed patient's bladder cancer. we discussed pathology in depth. we discussed overall this \n",
    "would be considered intermediate risk bladder cancer. Therefore he would be recommended for bcg therapy \n",
    "for one year. numbers: 0.172 and 82/0. Date 2022/08/02\"\"\""
   ]
  },
  {
   "cell_type": "code",
   "execution_count": 65,
   "id": "755bcee1",
   "metadata": {},
   "outputs": [],
   "source": [
    "doc = nlp(raw_text)"
   ]
  },
  {
   "cell_type": "code",
   "execution_count": 66,
   "id": "5556eaba",
   "metadata": {},
   "outputs": [
    {
     "data": {
      "text/plain": [
       "We discussed patient's bladder cancer. we discussed pathology in depth. we discussed overall this \n",
       "would be considered intermediate risk bladder cancer. Therefore he would be recommended for bcg therapy \n",
       "for one year. numbers: 0.172 and 82/0. Date 2022/08/02"
      ]
     },
     "execution_count": 66,
     "metadata": {},
     "output_type": "execute_result"
    }
   ],
   "source": [
    "doc"
   ]
  },
  {
   "cell_type": "code",
   "execution_count": 50,
   "id": "6f76b67f",
   "metadata": {},
   "outputs": [
    {
     "name": "stdout",
     "output_type": "stream",
     "text": [
      "we\n",
      "discussed\n",
      "patient\n",
      "'s\n",
      "bladder\n",
      "cancer\n",
      ".\n",
      "we\n",
      "discussed\n",
      "pathology\n",
      "in\n",
      "depth\n",
      ".\n",
      "we\n",
      "discussed\n",
      "overall\n",
      "this\n",
      "\n",
      "\n",
      "would\n",
      "be\n",
      "considered\n",
      "intermediate\n",
      "risk\n",
      "bladder\n",
      "cancer\n",
      ".\n",
      "therefore\n",
      "he\n",
      "would\n",
      "be\n",
      "recommended\n",
      "for\n",
      "bcg\n",
      "therapy\n",
      "\n",
      "\n",
      "for\n",
      "one\n",
      "year\n",
      ".\n",
      "numbers\n",
      ":\n",
      "0.172\n",
      "and\n",
      "82/0\n"
     ]
    }
   ],
   "source": [
    "for tok in doc:\n",
    "    print(tok)"
   ]
  },
  {
   "cell_type": "code",
   "execution_count": 51,
   "id": "68cfb60a",
   "metadata": {},
   "outputs": [
    {
     "name": "stdout",
     "output_type": "stream",
     "text": [
      "token:  we \n",
      "sentence:  we discussed patient's bladder cancer.\n",
      "token:  discussed \n",
      "sentence:  we discussed patient's bladder cancer.\n",
      "token:  patient \n",
      "sentence:  we discussed patient's bladder cancer.\n",
      "token:  's \n",
      "sentence:  we discussed patient's bladder cancer.\n",
      "token:  bladder \n",
      "sentence:  we discussed patient's bladder cancer.\n",
      "token:  cancer \n",
      "sentence:  we discussed patient's bladder cancer.\n",
      "token:  . \n",
      "sentence:  we discussed patient's bladder cancer.\n",
      "token:  we \n",
      "sentence:  we discussed pathology in depth.\n",
      "token:  discussed \n",
      "sentence:  we discussed pathology in depth.\n",
      "token:  pathology \n",
      "sentence:  we discussed pathology in depth.\n",
      "token:  in \n",
      "sentence:  we discussed pathology in depth.\n",
      "token:  depth \n",
      "sentence:  we discussed pathology in depth.\n",
      "token:  . \n",
      "sentence:  we discussed pathology in depth.\n",
      "token:  we \n",
      "sentence:  we discussed overall this \n",
      "would be considered intermediate risk bladder cancer.\n",
      "token:  discussed \n",
      "sentence:  we discussed overall this \n",
      "would be considered intermediate risk bladder cancer.\n",
      "token:  overall \n",
      "sentence:  we discussed overall this \n",
      "would be considered intermediate risk bladder cancer.\n",
      "token:  this \n",
      "sentence:  we discussed overall this \n",
      "would be considered intermediate risk bladder cancer.\n",
      "token:  \n",
      " \n",
      "sentence:  we discussed overall this \n",
      "would be considered intermediate risk bladder cancer.\n",
      "token:  would \n",
      "sentence:  we discussed overall this \n",
      "would be considered intermediate risk bladder cancer.\n",
      "token:  be \n",
      "sentence:  we discussed overall this \n",
      "would be considered intermediate risk bladder cancer.\n",
      "token:  considered \n",
      "sentence:  we discussed overall this \n",
      "would be considered intermediate risk bladder cancer.\n",
      "token:  intermediate \n",
      "sentence:  we discussed overall this \n",
      "would be considered intermediate risk bladder cancer.\n",
      "token:  risk \n",
      "sentence:  we discussed overall this \n",
      "would be considered intermediate risk bladder cancer.\n",
      "token:  bladder \n",
      "sentence:  we discussed overall this \n",
      "would be considered intermediate risk bladder cancer.\n",
      "token:  cancer \n",
      "sentence:  we discussed overall this \n",
      "would be considered intermediate risk bladder cancer.\n",
      "token:  . \n",
      "sentence:  we discussed overall this \n",
      "would be considered intermediate risk bladder cancer.\n",
      "token:  therefore \n",
      "sentence:  therefore he would be recommended for bcg therapy \n",
      "for one year.\n",
      "token:  he \n",
      "sentence:  therefore he would be recommended for bcg therapy \n",
      "for one year.\n",
      "token:  would \n",
      "sentence:  therefore he would be recommended for bcg therapy \n",
      "for one year.\n",
      "token:  be \n",
      "sentence:  therefore he would be recommended for bcg therapy \n",
      "for one year.\n",
      "token:  recommended \n",
      "sentence:  therefore he would be recommended for bcg therapy \n",
      "for one year.\n",
      "token:  for \n",
      "sentence:  therefore he would be recommended for bcg therapy \n",
      "for one year.\n",
      "token:  bcg \n",
      "sentence:  therefore he would be recommended for bcg therapy \n",
      "for one year.\n",
      "token:  therapy \n",
      "sentence:  therefore he would be recommended for bcg therapy \n",
      "for one year.\n",
      "token:  \n",
      " \n",
      "sentence:  therefore he would be recommended for bcg therapy \n",
      "for one year.\n",
      "token:  for \n",
      "sentence:  therefore he would be recommended for bcg therapy \n",
      "for one year.\n",
      "token:  one \n",
      "sentence:  therefore he would be recommended for bcg therapy \n",
      "for one year.\n",
      "token:  year \n",
      "sentence:  therefore he would be recommended for bcg therapy \n",
      "for one year.\n",
      "token:  . \n",
      "sentence:  therefore he would be recommended for bcg therapy \n",
      "for one year.\n",
      "token:  numbers \n",
      "sentence:  numbers: 0.172 and 82/0\n",
      "token:  : \n",
      "sentence:  numbers: 0.172 and 82/0\n",
      "token:  0.172 \n",
      "sentence:  numbers: 0.172 and 82/0\n",
      "token:  and \n",
      "sentence:  numbers: 0.172 and 82/0\n",
      "token:  82/0 \n",
      "sentence:  numbers: 0.172 and 82/0\n"
     ]
    }
   ],
   "source": [
    "for tok in doc:\n",
    "    print('token: ', tok, '\\nsentence: ', tok.sent)"
   ]
  },
  {
   "cell_type": "code",
   "execution_count": 54,
   "id": "fffc7960",
   "metadata": {},
   "outputs": [
    {
     "data": {
      "text/plain": [
       "we discussed patient's bladder cancer. we discussed pathology in depth. we discussed overall this \n",
       "would be considered intermediate risk bladder cancer. therefore he would be recommended for bcg therapy \n",
       "for one year. numbers: 0.172 and 82/0"
      ]
     },
     "execution_count": 54,
     "metadata": {},
     "output_type": "execute_result"
    }
   ],
   "source": [
    "doc"
   ]
  },
  {
   "cell_type": "code",
   "execution_count": 52,
   "id": "b7a9cba5",
   "metadata": {},
   "outputs": [
    {
     "name": "stdout",
     "output_type": "stream",
     "text": [
      "we 0\n",
      "discussed 1\n",
      "patient 2\n",
      "'s 3\n",
      "bladder 4\n",
      "cancer 5\n",
      ". 6\n",
      "we 7\n",
      "discussed 8\n",
      "pathology 9\n",
      "in 10\n",
      "depth 11\n",
      ". 12\n",
      "we 13\n",
      "discussed 14\n",
      "overall 15\n",
      "this 16\n",
      "\n",
      " 17\n",
      "would 18\n",
      "be 19\n",
      "considered 20\n",
      "intermediate 21\n",
      "risk 22\n",
      "bladder 23\n",
      "cancer 24\n",
      ". 25\n",
      "therefore 26\n",
      "he 27\n",
      "would 28\n",
      "be 29\n",
      "recommended 30\n",
      "for 31\n",
      "bcg 32\n",
      "therapy 33\n",
      "\n",
      " 34\n",
      "for 35\n",
      "one 36\n",
      "year 37\n",
      ". 38\n",
      "numbers 39\n",
      ": 40\n",
      "0.172 41\n",
      "and 42\n",
      "82/0 43\n"
     ]
    }
   ],
   "source": [
    "#token id\n",
    "for tok in doc:\n",
    "    print(tok, tok.i)"
   ]
  },
  {
   "cell_type": "code",
   "execution_count": 53,
   "id": "0a566ab8",
   "metadata": {},
   "outputs": [
    {
     "name": "stdout",
     "output_type": "stream",
     "text": [
      "we 0\n",
      "discussed 3\n",
      "patient 13\n",
      "'s 20\n",
      "bladder 23\n",
      "cancer 31\n",
      ". 37\n",
      "we 39\n",
      "discussed 42\n",
      "pathology 52\n",
      "in 62\n",
      "depth 65\n",
      ". 70\n",
      "we 72\n",
      "discussed 75\n",
      "overall 85\n",
      "this 93\n",
      "\n",
      " 98\n",
      "would 99\n",
      "be 105\n",
      "considered 108\n",
      "intermediate 119\n",
      "risk 132\n",
      "bladder 137\n",
      "cancer 145\n",
      ". 151\n",
      "therefore 153\n",
      "he 163\n",
      "would 166\n",
      "be 172\n",
      "recommended 175\n",
      "for 187\n",
      "bcg 191\n",
      "therapy 195\n",
      "\n",
      " 203\n",
      "for 204\n",
      "one 208\n",
      "year 212\n",
      ". 216\n",
      "numbers 218\n",
      ": 225\n",
      "0.172 227\n",
      "and 233\n",
      "82/0 237\n"
     ]
    }
   ],
   "source": [
    "#character offset\n",
    "for tok in doc:\n",
    "    print(tok, tok.idx)"
   ]
  },
  {
   "cell_type": "code",
   "execution_count": 67,
   "id": "0d996bbe",
   "metadata": {},
   "outputs": [
    {
     "name": "stdout",
     "output_type": "stream",
     "text": [
      "We Xx\n",
      "discussed xxxx\n",
      "patient xxxx\n",
      "'s 'x\n",
      "bladder xxxx\n",
      "cancer xxxx\n",
      ". .\n",
      "we xx\n",
      "discussed xxxx\n",
      "pathology xxxx\n",
      "in xx\n",
      "depth xxxx\n",
      ". .\n",
      "we xx\n",
      "discussed xxxx\n",
      "overall xxxx\n",
      "this xxxx\n",
      "\n",
      " \n",
      "\n",
      "would xxxx\n",
      "be xx\n",
      "considered xxxx\n",
      "intermediate xxxx\n",
      "risk xxxx\n",
      "bladder xxxx\n",
      "cancer xxxx\n",
      ". .\n",
      "Therefore Xxxxx\n",
      "he xx\n",
      "would xxxx\n",
      "be xx\n",
      "recommended xxxx\n",
      "for xxx\n",
      "bcg xxx\n",
      "therapy xxxx\n",
      "\n",
      " \n",
      "\n",
      "for xxx\n",
      "one xxx\n",
      "year xxxx\n",
      ". .\n",
      "numbers xxxx\n",
      ": :\n",
      "0.172 d.ddd\n",
      "and xxx\n",
      "82/0 dd/d\n",
      ". .\n",
      "Date Xxxx\n",
      "2022/08/02 dddd/dd/dd\n"
     ]
    }
   ],
   "source": [
    "for tok in doc:\n",
    "    print(tok, tok.shape_)"
   ]
  },
  {
   "cell_type": "code",
   "execution_count": 68,
   "id": "4d000646",
   "metadata": {},
   "outputs": [],
   "source": [
    "#for tok in doc:\n",
    "#    print(tok, tok.morph)"
   ]
  },
  {
   "cell_type": "code",
   "execution_count": 69,
   "id": "3c33dd37",
   "metadata": {},
   "outputs": [
    {
     "data": {
      "text/plain": [
       "We discussed patient's bladder cancer. we discussed pathology in depth. we discussed overall this \n",
       "would be considered intermediate risk bladder cancer. Therefore he would be recommended for bcg therapy \n",
       "for one year. numbers: 0.172 and 82/0. Date 2022/08/02"
      ]
     },
     "execution_count": 69,
     "metadata": {},
     "output_type": "execute_result"
    }
   ],
   "source": [
    "doc"
   ]
  },
  {
   "cell_type": "code",
   "execution_count": 70,
   "id": "4b796356",
   "metadata": {},
   "outputs": [
    {
     "name": "stdout",
     "output_type": "stream",
     "text": [
      "We discussed patient's bladder cancer.\n",
      "we discussed pathology in depth.\n",
      "we discussed overall this \n",
      "would be considered intermediate risk bladder cancer.\n",
      "Therefore he would be recommended for bcg therapy \n",
      "for one year.\n",
      "numbers: 0.172 and 82/0.\n",
      "Date 2022/08/02\n"
     ]
    }
   ],
   "source": [
    "for sent in doc.sents:\n",
    "    print(sent)"
   ]
  },
  {
   "cell_type": "code",
   "execution_count": 29,
   "id": "26fa6f41",
   "metadata": {},
   "outputs": [
    {
     "name": "stdout",
     "output_type": "stream",
     "text": [
      "we\n",
      "patient's bladder cancer\n",
      "we\n",
      "pathology\n",
      "depth\n",
      "we\n",
      "intermediate risk bladder cancer\n",
      "he\n",
      "bcg therapy\n",
      "one year\n",
      "numbers\n"
     ]
    }
   ],
   "source": [
    "for chunk in doc.noun_chunks:\n",
    "    print(chunk)"
   ]
  },
  {
   "cell_type": "code",
   "execution_count": 32,
   "id": "e8de4b08",
   "metadata": {},
   "outputs": [],
   "source": [
    "for span in doc.spans:\n",
    "    print(span)"
   ]
  },
  {
   "cell_type": "code",
   "execution_count": 71,
   "id": "6038daa9",
   "metadata": {},
   "outputs": [],
   "source": [
    "apples = nlp(\"I like apples\")\n",
    "oranges = nlp(\"I like oranges\")"
   ]
  },
  {
   "cell_type": "code",
   "execution_count": 72,
   "id": "3e20c922",
   "metadata": {},
   "outputs": [
    {
     "name": "stderr",
     "output_type": "stream",
     "text": [
      "/var/folders/cy/jhytgx7n0yz584b1mxflv7h80000gn/T/ipykernel_65506/927635354.py:1: UserWarning: [W007] The model you're using has no word vectors loaded, so the result of the Doc.similarity method will be based on the tagger, parser and NER, which may not give useful similarity judgements. This may happen if you're using one of the small models, e.g. `en_core_web_sm`, which don't ship with word vectors and only use context-sensitive tensors. You can always add your own word vectors, or use one of the larger models instead if available.\n",
      "  apples.similarity(oranges)\n"
     ]
    },
    {
     "data": {
      "text/plain": [
       "0.8819548051274511"
      ]
     },
     "execution_count": 72,
     "metadata": {},
     "output_type": "execute_result"
    }
   ],
   "source": [
    "apples.similarity(oranges)"
   ]
  },
  {
   "cell_type": "code",
   "execution_count": 37,
   "id": "32f80334",
   "metadata": {},
   "outputs": [
    {
     "data": {
      "text/plain": [
       "we discussed patient's bladder cancer. we discussed pathology in depth. we discussed overall this \n",
       "would be considered intermediate risk bladder cancer. therefore he would be recommended for bcg therapy \n",
       "for one year. numbers: 0.172 and 82/0"
      ]
     },
     "execution_count": 37,
     "metadata": {},
     "output_type": "execute_result"
    }
   ],
   "source": [
    "doc"
   ]
  },
  {
   "cell_type": "code",
   "execution_count": 73,
   "id": "a7c63786",
   "metadata": {},
   "outputs": [],
   "source": [
    "from spacy.matcher import PhraseMatcher"
   ]
  },
  {
   "cell_type": "code",
   "execution_count": null,
   "id": "2eb16cc5",
   "metadata": {},
   "outputs": [],
   "source": [
    "nlp = spacy.load('en_core_web_sm')"
   ]
  },
  {
   "cell_type": "code",
   "execution_count": 36,
   "id": "fe0cb922",
   "metadata": {},
   "outputs": [],
   "source": [
    "matcher = PhraseMatcher(nlp.vocab, attr='LOWER')"
   ]
  },
  {
   "cell_type": "code",
   "execution_count": 42,
   "id": "820fb64a",
   "metadata": {},
   "outputs": [
    {
     "data": {
      "text/plain": [
       "{'CONDITION': 'bladder cancer',\n",
       " 'RISK': 'intermediate risk',\n",
       " 'TREATMENT': 'bcg therapy'}"
      ]
     },
     "execution_count": 42,
     "metadata": {},
     "output_type": "execute_result"
    }
   ],
   "source": [
    "terms = ['bladder cancer', 'intermediate risk', 'bcg therapy']\n",
    "labels = ['CONDITION', 'RISK', 'TREATMENT']\n",
    "terms_dict = dict(zip(labels, terms))\n",
    "terms_dict"
   ]
  },
  {
   "cell_type": "code",
   "execution_count": 39,
   "id": "9d8d81c9",
   "metadata": {},
   "outputs": [],
   "source": [
    "for item in terms_dict.items():\n",
    "    matcher.add(str(item[0]), None, nlp(str(item[1])))"
   ]
  },
  {
   "cell_type": "code",
   "execution_count": 40,
   "id": "a1548708",
   "metadata": {},
   "outputs": [
    {
     "data": {
      "text/plain": [
       "3"
      ]
     },
     "execution_count": 40,
     "metadata": {},
     "output_type": "execute_result"
    }
   ],
   "source": [
    "len(matcher)"
   ]
  },
  {
   "cell_type": "code",
   "execution_count": 45,
   "id": "3dcb15a5",
   "metadata": {},
   "outputs": [
    {
     "name": "stdout",
     "output_type": "stream",
     "text": [
      "condition : bladder cancer\n",
      "risk : intermediate risk\n",
      "condition : bladder cancer\n",
      "treatment : bcg therapy\n"
     ]
    }
   ],
   "source": [
    "matches = matcher(doc)\n",
    "\n",
    "for match_id, start, end in matches:\n",
    "    string_id = nlp.vocab.strings[match_id]\n",
    "    span = doc[start:end]\n",
    "    print(string_id, ':', span)"
   ]
  },
  {
   "cell_type": "code",
   "execution_count": 74,
   "id": "0b3afa58",
   "metadata": {},
   "outputs": [
    {
     "data": {
      "text/plain": [
       "[(15050408803291667128, 4, 6),\n",
       " (14326900376835226264, 21, 23),\n",
       " (15050408803291667128, 23, 25),\n",
       " (17998780750743588112, 32, 34)]"
      ]
     },
     "execution_count": 74,
     "metadata": {},
     "output_type": "execute_result"
    }
   ],
   "source": [
    "matches = matcher(doc)\n",
    "matches"
   ]
  },
  {
   "cell_type": "code",
   "execution_count": 78,
   "id": "255e3122",
   "metadata": {},
   "outputs": [
    {
     "name": "stdout",
     "output_type": "stream",
     "text": [
      "label:  condition \n",
      "string:  bladder cancer token id:  4\n",
      "label:  risk \n",
      "string:  intermediate risk token id:  21\n",
      "label:  condition \n",
      "string:  bladder cancer token id:  23\n",
      "label:  treatment \n",
      "string:  bcg therapy token id:  32\n"
     ]
    }
   ],
   "source": [
    "for match_id, start, end in matches:\n",
    "    string_id = nlp.vocab.strings[match_id]\n",
    "    span = doc[start:end]\n",
    "    print('label: ', string_id, '\\nstring: ', span, 'token id: ', start)"
   ]
  },
  {
   "cell_type": "code",
   "execution_count": 76,
   "id": "dd3ecfce",
   "metadata": {},
   "outputs": [
    {
     "data": {
      "text/plain": [
       "We discussed patient's bladder cancer. we discussed pathology in depth. we discussed overall this \n",
       "would be considered intermediate risk bladder cancer. Therefore he would be recommended for bcg therapy \n",
       "for one year. numbers: 0.172 and 82/0. Date 2022/08/02"
      ]
     },
     "execution_count": 76,
     "metadata": {},
     "output_type": "execute_result"
    }
   ],
   "source": [
    "doc"
   ]
  },
  {
   "cell_type": "code",
   "execution_count": null,
   "id": "d3c9a9cc",
   "metadata": {},
   "outputs": [],
   "source": []
  }
 ],
 "metadata": {
  "kernelspec": {
   "display_name": "Python 3 (ipykernel)",
   "language": "python",
   "name": "python3"
  },
  "language_info": {
   "codemirror_mode": {
    "name": "ipython",
    "version": 3
   },
   "file_extension": ".py",
   "mimetype": "text/x-python",
   "name": "python",
   "nbconvert_exporter": "python",
   "pygments_lexer": "ipython3",
   "version": "3.10.4"
  }
 },
 "nbformat": 4,
 "nbformat_minor": 5
}
